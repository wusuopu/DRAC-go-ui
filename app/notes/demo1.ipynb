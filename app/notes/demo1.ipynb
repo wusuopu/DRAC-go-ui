{
 "cells": [
  {
   "cell_type": "code",
   "execution_count": 9,
   "id": "32854d91-1fbd-452b-9e25-dcd68f96a909",
   "metadata": {},
   "outputs": [],
   "source": [
    "import \"fmt\"\n",
    "import \"../src/utils\"\n",
    "\n",
    "var config = utils.LoadConfig(\"/app/.config.json\")\n"
   ]
  },
  {
   "cell_type": "code",
   "execution_count": 10,
   "id": "049338a4",
   "metadata": {},
   "outputs": [
    {
     "data": {
      "text/plain": [
       "[{\"HostName\":\"ln1\",\"ControllerIP\":\"10.60.4.1\"},{\"HostName\":\"io1\",\"ControllerIP\":\"10.60.4.2\"},{\"HostName\":\"io2\",\"ControllerIP\":\"10.60.4.3\"},{\"HostName\":\"mn1\",\"ControllerIP\":\"10.60.4.4\"},{\"HostName\":\"mn2\",\"ControllerIP\":\"10.60.4.5\"},{\"HostName\":\"cs1\",\"ControllerIP\":\"10.60.4.6\"},{\"HostName\":\"cs2\",\"ControllerIP\":\"10.60.4.7\"},{\"HostName\":\"cs3\",\"ControllerIP\":\"10.60.4.8\"},{\"HostName\":\"cs4\",\"ControllerIP\":\"10.60.4.9\"},{\"HostName\":\"cs5\",\"ControllerIP\":\"10.60.4.10\"},{\"HostName\":\"cs6\",\"ControllerIP\":\"10.60.4.11\"},{\"HostName\":\"cs7\",\"ControllerIP\":\"10.60.4.12\"},{\"HostName\":\"cs8\",\"ControllerIP\":\"10.60.4.13\"},{\"HostName\":\"cs9\",\"ControllerIP\":\"10.60.4.14\"},{\"HostName\":\"cs10\",\"ControllerIP\":\"10.60.4.15\"},{\"HostName\":\"cs11\",\"ControllerIP\":\"10.60.4.16\"},{\"HostName\":\"cs12\",\"ControllerIP\":\"10.60.4.17\"},{\"HostName\":\"cs13\",\"ControllerIP\":\"10.60.4.18\"},{\"HostName\":\"cs14\",\"ControllerIP\":\"10.60.4.19\"},{\"HostName\":\"cs15\",\"ControllerIP\":\"10.60.4.20\"},{\"HostName\":\"gs1\",\"ControllerIP\":\"10.60.4.21\"},{\"HostName\":\"gs2\",\"ControllerIP\":\"10.60.4.22\"},{\"HostName\":\"gs3\",\"ControllerIP\":\"10.60.4.23\"}]"
      ]
     },
     "execution_count": 10,
     "metadata": {},
     "output_type": "execute_result"
    }
   ],
   "source": [
    "config"
   ]
  },
  {
   "cell_type": "code",
   "execution_count": 12,
   "id": "f17cc256",
   "metadata": {},
   "outputs": [
    {
     "name": "stdout",
     "output_type": "stream",
     "text": [
      "0 {\"name\":\"cs1\",\"controllerIP\":\"10.60.4.4\",\"ip\":\"10.60.4.33\"}\n"
     ]
    }
   ],
   "source": [
    "for i, item := range config.GetArray() {\n",
    "\tfmt.Println(i, item)\n",
    "}"
   ]
  },
  {
   "cell_type": "code",
   "execution_count": 14,
   "id": "aeaa408d",
   "metadata": {},
   "outputs": [
    {
     "data": {
      "text/plain": [
       "[34 108 110 49 34]"
      ]
     },
     "execution_count": 14,
     "metadata": {},
     "output_type": "execute_result"
    }
   ],
   "source": [
    "config.Get('0').Get(\"HostName\").MarshalTo(nil)"
   ]
  },
  {
   "cell_type": "code",
   "execution_count": 11,
   "id": "a34c3071",
   "metadata": {},
   "outputs": [
    {
     "data": {
      "text/plain": [
       "[{\"HostName\":\"ln1\",\"ControllerIP\":\"10.60.4.1\"},{\"HostName\":\"io1\",\"ControllerIP\":\"10.60.4.2\"},{\"HostName\":\"io2\",\"ControllerIP\":\"10.60.4.3\"},{\"HostName\":\"mn1\",\"ControllerIP\":\"10.60.4.4\"},{\"HostName\":\"mn2\",\"ControllerIP\":\"10.60.4.5\"},{\"HostName\":\"cs1\",\"ControllerIP\":\"10.60.4.6\"},{\"HostName\":\"cs2\",\"ControllerIP\":\"10.60.4.7\"},{\"HostName\":\"cs3\",\"ControllerIP\":\"10.60.4.8\"},{\"HostName\":\"cs4\",\"ControllerIP\":\"10.60.4.9\"},{\"HostName\":\"cs5\",\"ControllerIP\":\"10.60.4.10\"},{\"HostName\":\"cs6\",\"ControllerIP\":\"10.60.4.11\"},{\"HostName\":\"cs7\",\"ControllerIP\":\"10.60.4.12\"},{\"HostName\":\"cs8\",\"ControllerIP\":\"10.60.4.13\"},{\"HostName\":\"cs9\",\"ControllerIP\":\"10.60.4.14\"},{\"HostName\":\"cs10\",\"ControllerIP\":\"10.60.4.15\"},{\"HostName\":\"cs11\",\"ControllerIP\":\"10.60.4.16\"},{\"HostName\":\"cs12\",\"ControllerIP\":\"10.60.4.17\"},{\"HostName\":\"cs13\",\"ControllerIP\":\"10.60.4.18\"},{\"HostName\":\"cs14\",\"ControllerIP\":\"10.60.4.19\"},{\"HostName\":\"cs15\",\"ControllerIP\":\"10.60.4.20\"},{\"HostName\":\"gs1\",\"ControllerIP\":\"10.60.4.21\"},{\"HostName\":\"gs2\",\"ControllerIP\":\"10.60.4.22\"},{\"HostName\":\"gs3\",\"ControllerIP\":\"10.60.4.23\"}]"
      ]
     },
     "execution_count": 11,
     "metadata": {},
     "output_type": "execute_result"
    }
   ],
   "source": [
    "config.String()"
   ]
  },
  {
   "cell_type": "code",
   "execution_count": 7,
   "id": "97df1ab7",
   "metadata": {},
   "outputs": [
    {
     "name": "stdout",
     "output_type": "stream",
     "text": [
      "// warning: skipping import of func sync.OnceValue[T any](f func() T) func() T:\timporting generic functions or types is not supported yet\n",
      "// warning: skipping import of func sync.OnceValues[T1, T2 any](f func() (T1, T2)) func() (T1, T2):\timporting generic functions or types is not supported yet\n"
     ]
    }
   ],
   "source": [
    "import \"github.com/valyala/fastjson\""
   ]
  },
  {
   "cell_type": "code",
   "execution_count": 8,
   "id": "6f0bf73f",
   "metadata": {},
   "outputs": [],
   "source": [
    "var a fastjson.Arena\n",
    "data := a.NewArray()\n",
    "item0 := a.NewArray()\n",
    "data.Set(\"0\", item0)\n",
    "item0.Set(\"0\", a.NewString(\"mn1\"))"
   ]
  },
  {
   "cell_type": "code",
   "execution_count": 22,
   "id": "37a1667c",
   "metadata": {},
   "outputs": [
    {
     "data": {
      "text/plain": [
       "[109 110 49] <nil>"
      ]
     },
     "execution_count": 22,
     "metadata": {},
     "output_type": "execute_result"
    }
   ],
   "source": [
    "data.Get(\"0\", \"0\").StringBytes()"
   ]
  },
  {
   "cell_type": "code",
   "execution_count": 57,
   "id": "c429990b",
   "metadata": {},
   "outputs": [
    {
     "data": {
      "text/plain": [
       "\\\"'foo'"
      ]
     },
     "execution_count": 57,
     "metadata": {},
     "output_type": "execute_result"
    }
   ],
   "source": [
    "strings.Trim(jsonParsed.Path(\"outer.inner.name\").String(), '\"')"
   ]
  },
  {
   "cell_type": "code",
   "execution_count": 61,
   "id": "bacf159a",
   "metadata": {},
   "outputs": [
    {
     "data": {
      "text/plain": [
       "{\"outer\":{\"alsoInner\":{\"array1\":[30,40],\"value1\":20},\"inner\":{\"name\":\"\\\"'foo'\",\"value1\":10,\"value2\":22}}}"
      ]
     },
     "execution_count": 61,
     "metadata": {},
     "output_type": "execute_result"
    }
   ],
   "source": [
    "jsonParsed"
   ]
  },
  {
   "cell_type": "code",
   "execution_count": 77,
   "id": "a156bf15",
   "metadata": {},
   "outputs": [
    {
     "data": {
      "text/plain": [
       "14:59:37"
      ]
     },
     "execution_count": 77,
     "metadata": {},
     "output_type": "execute_result"
    }
   ],
   "source": [
    "time.Now().Format(\"15:04:05\")"
   ]
  },
  {
   "cell_type": "code",
   "execution_count": 7,
   "id": "cefeaf6e",
   "metadata": {},
   "outputs": [],
   "source": [
    "var ret string = \"\\\"mn1\\\"\""
   ]
  },
  {
   "cell_type": "code",
   "execution_count": 12,
   "id": "47f9dc44",
   "metadata": {},
   "outputs": [
    {
     "data": {
      "text/plain": []
     },
     "execution_count": 12,
     "metadata": {},
     "output_type": "execute_result"
    }
   ],
   "source": [
    "ret := \"\\\"\\\"\"\n",
    "ret[1:len(ret)-1]"
   ]
  },
  {
   "cell_type": "code",
   "execution_count": 1,
   "id": "d9d348a4",
   "metadata": {},
   "outputs": [],
   "source": [
    "import (\n",
    "\t\"fmt\"\n",
    "\t\"context\"\n",
    "\t\"net/http\"\n",
    "\t\"net/url\"\n",
    "\t// \"github.com/carlmjohnson/requests\"\n",
    "\t\"github.com/asmcos/requests\"\n",
    ")"
   ]
  },
  {
   "cell_type": "code",
   "execution_count": 25,
   "id": "dbc82d7d",
   "metadata": {},
   "outputs": [],
   "source": [
    "myClient := *http.DefaultClient\n",
    "myClient.Jar = requests.NewCookieJar()"
   ]
  },
  {
   "cell_type": "code",
   "execution_count": 28,
   "id": "fb18d1b3",
   "metadata": {},
   "outputs": [],
   "source": [
    "// Use the client to make a request\n",
    "err := requests.\n",
    "\tURL(\"http://httpbin.org/cookies/set/chocolate/chip\").\n",
    "\tClient(&myClient).\n",
    "\tFetch(context.Background())"
   ]
  },
  {
   "cell_type": "code",
   "execution_count": 29,
   "id": "ba429403",
   "metadata": {},
   "outputs": [
    {
     "name": "stdout",
     "output_type": "stream",
     "text": [
      "chocolate11=chip\n",
      "chocolate=chip\n"
     ]
    }
   ],
   "source": [
    "for _, cookie := range myClient.Jar.Cookies(&url.URL{\n",
    "\tScheme: \"http\",\n",
    "\tHost:   \"httpbin.org\",\n",
    "}) {\n",
    "\tfmt.Println(cookie)\n",
    "}"
   ]
  },
  {
   "cell_type": "code",
   "execution_count": 4,
   "id": "cf29451a",
   "metadata": {},
   "outputs": [],
   "source": [
    "req := requests.Requests()"
   ]
  },
  {
   "cell_type": "code",
   "execution_count": 5,
   "id": "48bde83b",
   "metadata": {},
   "outputs": [],
   "source": [
    "resp, err := req.Get(\"http://httpbin.org/cookies/set/chocolate/chip\")"
   ]
  },
  {
   "cell_type": "code",
   "execution_count": 32,
   "id": "efd86d3d",
   "metadata": {},
   "outputs": [],
   "source": [
    "err"
   ]
  },
  {
   "cell_type": "code",
   "execution_count": 6,
   "id": "66e8f5ac",
   "metadata": {},
   "outputs": [
    {
     "data": {
      "text/plain": [
       "[chocolate=chip]"
      ]
     },
     "execution_count": 6,
     "metadata": {},
     "output_type": "execute_result"
    }
   ],
   "source": [
    "resp.Cookies()"
   ]
  },
  {
   "cell_type": "code",
   "execution_count": 7,
   "id": "152184d9",
   "metadata": {},
   "outputs": [],
   "source": [
    "resp, err := req.Get(\"http://httpbin.org/cookies/set/chocolate111/chip\")"
   ]
  },
  {
   "cell_type": "code",
   "execution_count": 8,
   "id": "b6f95e96",
   "metadata": {},
   "outputs": [
    {
     "data": {
      "text/plain": [
       "[chocolate=chip chocolate111=chip]"
      ]
     },
     "execution_count": 8,
     "metadata": {},
     "output_type": "execute_result"
    }
   ],
   "source": [
    "resp.Cookies()"
   ]
  },
  {
   "cell_type": "code",
   "execution_count": null,
   "id": "fa829030",
   "metadata": {},
   "outputs": [],
   "source": []
  }
 ],
 "metadata": {
  "kernelspec": {
   "display_name": "Go",
   "language": "go",
   "name": "gophernotes"
  },
  "language_info": {
   "codemirror_mode": "",
   "file_extension": ".go",
   "mimetype": "",
   "name": "go",
   "nbconvert_exporter": "",
   "pygments_lexer": "",
   "version": "go1.21.6"
  }
 },
 "nbformat": 4,
 "nbformat_minor": 5
}
